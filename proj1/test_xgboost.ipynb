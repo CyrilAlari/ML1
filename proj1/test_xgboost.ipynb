{
 "cells": [
  {
   "cell_type": "code",
   "execution_count": 15,
   "metadata": {
    "collapsed": true
   },
   "outputs": [],
   "source": [
    "import pandas as pd\n",
    "import numpy as np\n",
    "import gini \n",
    "import matplotlib.pyplot as plt\n",
    "\n",
    "from util_data import DataSet\n",
    "from sklearn.preprocessing import normalize\n",
    "\n",
    "import warnings\n",
    "warnings.filterwarnings('ignore')\n",
    "\n",
    "data = DataSet()"
   ]
  },
  {
   "cell_type": "code",
   "execution_count": 16,
   "metadata": {},
   "outputs": [],
   "source": [
    "from xgboost import XGBRegressor\n",
    "func = XGBRegressor"
   ]
  },
  {
   "cell_type": "code",
   "execution_count": 17,
   "metadata": {
    "collapsed": true
   },
   "outputs": [],
   "source": [
    "train = data.get_training_set()\n",
    "test = data.get_testing_set()"
   ]
  },
  {
   "cell_type": "code",
   "execution_count": 18,
   "metadata": {
    "collapsed": true
   },
   "outputs": [],
   "source": [
    "X = train.drop(['id','target'],axis=1) # drop id and target from X, since \"id\" wouldn't do much help for prediction\n",
    "Y = train['target'].as_matrix()"
   ]
  },
  {
   "cell_type": "markdown",
   "metadata": {},
   "source": [
    "## Several tests with XGBoost"
   ]
  },
  {
   "cell_type": "code",
   "execution_count": 19,
   "metadata": {},
   "outputs": [
    {
     "name": "stdout",
     "output_type": "stream",
     "text": [
      "XGBRegressor for 60 classifiers\n",
      "Gini: 0.118, Max. Gini: 0.482, Normalized Gini: 0.244\n",
      "XGBRegressor for 80 classifiers\n",
      "Gini: 0.118, Max. Gini: 0.482, Normalized Gini: 0.246\n",
      "XGBRegressor for 100 classifiers\n",
      "Gini: 0.120, Max. Gini: 0.482, Normalized Gini: 0.248\n",
      "XGBRegressor for 150 classifiers\n",
      "Gini: 0.121, Max. Gini: 0.482, Normalized Gini: 0.252\n"
     ]
    }
   ],
   "source": [
    "numbers = [60,80,100,150]\n",
    "results = []\n",
    "\n",
    "for i in numbers:\n",
    "    rfc = func(n_estimators = i)\n",
    "    rfc.fit(X[:200000],Y[:200000])\n",
    "    Y_pred = rfc.predict(X[-50000:])\n",
    "    print(func.__name__ + \" for \"+str(i)+\" classifiers\")\n",
    "    results.append(gini.gini_visualization(Y[-50000:],Y_pred,False))"
   ]
  }
 ],
 "metadata": {
  "kernelspec": {
   "display_name": "Python 3",
   "language": "python",
   "name": "python3"
  },
  "language_info": {
   "codemirror_mode": {
    "name": "ipython",
    "version": 3
   },
   "file_extension": ".py",
   "mimetype": "text/x-python",
   "name": "python",
   "nbconvert_exporter": "python",
   "pygments_lexer": "ipython3",
   "version": "3.6.1"
  }
 },
 "nbformat": 4,
 "nbformat_minor": 2
}
