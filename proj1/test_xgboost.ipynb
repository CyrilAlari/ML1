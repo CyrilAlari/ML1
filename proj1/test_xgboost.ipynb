{
 "cells": [
  {
   "cell_type": "code",
   "execution_count": 1,
   "metadata": {},
   "outputs": [],
   "source": [
    "import pandas as pd\n",
    "import numpy as np\n",
    "import gini \n",
    "import matplotlib.pyplot as plt\n",
    "\n",
    "from util_data import DataSet\n",
    "from sklearn.preprocessing import normalize\n",
    "\n",
    "import warnings\n",
    "warnings.filterwarnings('ignore')\n",
    "\n",
    "from rgf.sklearn import RGFClassifier\n",
    "\n",
    "data = DataSet()"
   ]
  },
  {
   "cell_type": "code",
   "execution_count": 2,
   "metadata": {},
   "outputs": [],
   "source": [
    "from xgboost import XGBRegressor\n",
    "func = RGFClassifier"
   ]
  },
  {
   "cell_type": "code",
   "execution_count": 3,
   "metadata": {
    "collapsed": true
   },
   "outputs": [],
   "source": [
    "train = data.get_training_set()\n",
    "test = data.get_testing_set()"
   ]
  },
  {
   "cell_type": "code",
   "execution_count": 7,
   "metadata": {},
   "outputs": [],
   "source": [
    "correlated_features = [\"ps_reg_03\",\"ps_car_13\"]\n",
    "lacunar_features = [\"ps_car_03_cat\",\"ps_car_05_cat\"]\n",
    "\n",
    "X = train.drop(['id','target'],axis=1).drop(correlated_features+lacunar_features,axis=1) # drop id and target from X, since \"id\" wouldn't do much help for prediction\n",
    "Y = train['target'].as_matrix()\n",
    "X =X.fillna(X.mean())\n"
   ]
  },
  {
   "cell_type": "markdown",
   "metadata": {},
   "source": [
    "## Several tests with XGBoost"
   ]
  },
  {
   "cell_type": "code",
   "execution_count": null,
   "metadata": {},
   "outputs": [],
   "source": [
    "numbers = [500]\n",
    "results = []\n",
    "\n",
    "\n",
    "for i in numbers:\n",
    "    rfc = func(       max_leaf         = 500,  # original code with 1000 (verify the time limit to run it in Kaggle environment)\n",
    "        algorithm        = \"RGF\",  \n",
    "        loss             = \"Log\",\n",
    "        l2               = 0.01,\n",
    "        sl2              = 0.01,\n",
    "        normalize        = False,\n",
    "        min_samples_leaf = 8, #10,\n",
    "        n_iter           = None,\n",
    "        opt_interval     = 100,\n",
    "        learning_rate    = .35, #3,\n",
    "        calc_prob        = \"sigmoid\",\n",
    "        n_jobs           = -1,\n",
    "        memory_policy    = \"generous\",\n",
    "        verbose          = 0)\n",
    "    rfc.fit(X[:500000],Y[:500000])\n",
    "    Y_pred = rfc.predict(X[-50000:])\n",
    "    print(func.__name__ + \" for \"+str(i)+\" classifiers\")\n",
    "    results.append(gini.gini_visualization(Y[-50000:],Y_pred,False))"
   ]
  }
 ],
 "metadata": {
  "kernelspec": {
   "display_name": "Python 3",
   "language": "python",
   "name": "python3"
  },
  "language_info": {
   "codemirror_mode": {
    "name": "ipython",
    "version": 3
   },
   "file_extension": ".py",
   "mimetype": "text/x-python",
   "name": "python",
   "nbconvert_exporter": "python",
   "pygments_lexer": "ipython3",
   "version": "3.6.1"
  }
 },
 "nbformat": 4,
 "nbformat_minor": 2
}
