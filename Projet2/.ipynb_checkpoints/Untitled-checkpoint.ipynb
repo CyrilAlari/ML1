{
 "cells": [
  {
   "cell_type": "code",
   "execution_count": 2,
   "metadata": {
    "collapsed": true
   },
   "outputs": [],
   "source": [
    "import numpy as np # linear algebra\n",
    "import pandas as pd # data processing, CSV file I/O (e.g. pd.read_csv)\n",
    "import math\n",
    "import matplotlib.pyplot as plt\n",
    "import time\n",
    "from datetime import datetime, timedelta\n",
    "\n",
    "test = pd.read_csv('data/sample_submission_v2.csv', usecols=['msno'])\n",
    "train = pd.read_csv('data/train.csv', usecols=['msno'])\n",
    "train_v2 = pd.read_csv('data/train_v2.csv', usecols=['msno'])\n",
    "members = pd.read_csv('data/members_v3.csv')"
   ]
  },
  {
   "cell_type": "code",
   "execution_count": 3,
   "metadata": {
    "collapsed": true
   },
   "outputs": [],
   "source": [
    "Train = pd.merge(train, members, how='left', on='msno')\n",
    "Train_v2 = pd.merge(train_v2, members, how='left', on='msno')\n",
    "Test = pd.merge(test, members, how='left', on='msno')"
   ]
  },
  {
   "cell_type": "code",
   "execution_count": 4,
   "metadata": {
    "collapsed": true
   },
   "outputs": [],
   "source": [
    "def purifieGender(df):\n",
    "    gender = {'male':1, 'female':2}\n",
    "    df['gender'] = df['gender'].map(gender)\n",
    "    (df.gender).fillna(0, inplace = True)\n",
    "\n",
    "purifieGender(Train)\n",
    "purifieGender(Train_v2)\n",
    "purifieGender(Test)"
   ]
  },
  {
   "cell_type": "code",
   "execution_count": 5,
   "metadata": {
    "collapsed": true
   },
   "outputs": [],
   "source": [
    "Test[\"dateChurn\"] = datetime(2017, 4, 30 )\n",
    "Test['registration_init_time'] = pd.to_datetime(Test['registration_init_time'], errors = 'coerce', format = '%Y%m%d')\n",
    "Test[\"TimeSinceReg\"] = Test[\"dateChurn\"] - Test[\"registration_init_time\"]\n",
    "\n",
    "Train_v2[\"dateChurn\"] = datetime(2017, 3, 31)\n",
    "Train_v2['registration_init_time'] = pd.to_datetime(Train_v2['registration_init_time'], errors = 'coerce', format = '%Y%m%d')\n",
    "Train_v2[\"TimeSinceReg\"] = Train_v2[\"dateChurn\"] - Train_v2[\"registration_init_time\"]\n",
    "\n",
    "Train[\"dateChurn\"] = datetime(2017, 2, 28)\n",
    "Train['registration_init_time'] = pd.to_datetime(Train['registration_init_time'], errors = 'coerce', format = '%Y%m%d')\n",
    "Train[\"TimeSinceReg\"] = Train[\"dateChurn\"] - Train[\"registration_init_time\"]\n",
    "\n",
    "Test.drop(['registration_init_time', \"dateChurn\"], inplace=True, axis=1)\n",
    "Train_v2.drop(['registration_init_time', \"dateChurn\"], inplace=True, axis=1)\n",
    "Train.drop(['registration_init_time', \"dateChurn\"], inplace=True, axis=1)"
   ]
  },
  {
   "cell_type": "code",
   "execution_count": 6,
   "metadata": {
    "collapsed": true
   },
   "outputs": [],
   "source": [
    "Test.to_csv('output/member_test')\n",
    "Train_v2.to_csv('output/member_train_v2')\n",
    "Train.to_csv('output/member_train')"
   ]
  },
  {
   "cell_type": "code",
   "execution_count": null,
   "metadata": {
    "collapsed": true
   },
   "outputs": [],
   "source": []
  }
 ],
 "metadata": {
  "kernelspec": {
   "display_name": "Python 3",
   "language": "python",
   "name": "python3"
  },
  "language_info": {
   "codemirror_mode": {
    "name": "ipython",
    "version": 3
   },
   "file_extension": ".py",
   "mimetype": "text/x-python",
   "name": "python",
   "nbconvert_exporter": "python",
   "pygments_lexer": "ipython3",
   "version": "3.6.1"
  }
 },
 "nbformat": 4,
 "nbformat_minor": 2
}
