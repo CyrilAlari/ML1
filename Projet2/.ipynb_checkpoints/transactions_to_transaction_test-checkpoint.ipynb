{
 "cells": [
  {
   "cell_type": "code",
   "execution_count": 1,
   "metadata": {
    "collapsed": true
   },
   "outputs": [],
   "source": [
    "import numpy as np\n",
    "import pandas as pd\n",
    "import time"
   ]
  },
  {
   "cell_type": "code",
   "execution_count": null,
   "metadata": {
    "collapsed": true
   },
   "outputs": [],
   "source": [
    "df_test = pd.read_csv('data/sample_submission_v2.csv', usecols=['msno'])"
   ]
  },
  {
   "cell_type": "code",
   "execution_count": null,
   "metadata": {},
   "outputs": [],
   "source": [
    "df_iter = pd.read_csv('data/transactions.csv', low_memory=False, iterator=True, chunksize=10000000)\n",
    "\n",
    "df_transactions = pd.DataFrame()\n",
    "\n",
    "for df in df_iter:\n",
    "    new_df = pd.merge(df, df_test, on='msno', how='right')\n",
    "    if df_transactions.empty:\n",
    "        df_transactions = new_df\n",
    "    else:\n",
    "        df_transactions = pd.concat([df_transactions, new_df], ignore_index=True)\n",
    "        \n",
    "        \n",
    "df_iter = pd.read_csv('data/transactions_v2.csv', low_memory=False, iterator=True, chunksize=10000000)\n",
    "\n",
    "for df in df_iter:\n",
    "    new_df = pd.merge(df, df_test, on='msno', how='right')\n",
    "    if df_transactions.empty:\n",
    "        df_transactions = new_df\n",
    "    else:\n",
    "        df_transactions = pd.concat([df_transactions, new_df], ignore_index=True)"
   ]
  },
  {
   "cell_type": "code",
   "execution_count": null,
   "metadata": {
    "collapsed": true
   },
   "outputs": [],
   "source": [
    "df_transactions = df_transactions.sort_values('transaction_date')"
   ]
  },
  {
   "cell_type": "code",
   "execution_count": null,
   "metadata": {
    "collapsed": true
   },
   "outputs": [],
   "source": [
    "df_transactions.tail(100)"
   ]
  },
  {
   "cell_type": "code",
   "execution_count": null,
   "metadata": {
    "collapsed": true
   },
   "outputs": [],
   "source": [
    "def last(ser):\n",
    "    if len(ser)>0:\n",
    "        return ser.iloc[-1]\n",
    "    else:\n",
    "        return mean\n",
    "\n",
    "new_df_transactions_test = df_transactions.groupby('msno').agg({'payment_method_id':[np.mean, last],\n",
    "       'payment_plan_days':[np.mean, last], 'plan_list_price':[np.mean, last], 'actual_amount_paid':[np.mean, last],\n",
    "       'is_auto_renew':[np.median, last],'is_cancel': [sum, last], 'transaction_date':[last], 'membership_expire_date':[last]})"
   ]
  },
  {
   "cell_type": "code",
   "execution_count": null,
   "metadata": {
    "collapsed": true
   },
   "outputs": [],
   "source": [
    "new_df_transactions_test.tail(1000)"
   ]
  },
  {
   "cell_type": "code",
   "execution_count": null,
   "metadata": {
    "collapsed": true
   },
   "outputs": [],
   "source": [
    "new_df_transactions_test.columns = new_df_transactions_test.columns.map('_'.join)\n",
    "new_df_transactions_test = new_df_transactions_test.reset_index()\n"
   ]
  },
  {
   "cell_type": "code",
   "execution_count": null,
   "metadata": {
    "collapsed": true
   },
   "outputs": [],
   "source": [
    "new_df_transactions_test.tail(10)"
   ]
  },
  {
   "cell_type": "code",
   "execution_count": null,
   "metadata": {
    "collapsed": true
   },
   "outputs": [],
   "source": [
    "new_df_transactions_test.to_csv(\"data/transactions_test.csv\")"
   ]
  }
 ],
 "metadata": {
  "kernelspec": {
   "display_name": "Python 3",
   "language": "python",
   "name": "python3"
  },
  "language_info": {
   "codemirror_mode": {
    "name": "ipython",
    "version": 3
   },
   "file_extension": ".py",
   "mimetype": "text/x-python",
   "name": "python",
   "nbconvert_exporter": "python",
   "pygments_lexer": "ipython3",
   "version": "3.6.1"
  }
 },
 "nbformat": 4,
 "nbformat_minor": 2
}
