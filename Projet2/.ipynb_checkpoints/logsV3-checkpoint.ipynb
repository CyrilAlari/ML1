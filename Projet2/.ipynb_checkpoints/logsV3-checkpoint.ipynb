{
 "cells": [
  {
   "cell_type": "code",
   "execution_count": 17,
   "metadata": {
    "collapsed": true
   },
   "outputs": [],
   "source": [
    "import pandas as pd\n",
    "from tqdm import tqdm\n",
    "import numpy as np\n",
    "import warnings\n",
    "from multiprocessing import Pool, cpu_count\n",
    "warnings.filterwarnings('ignore')"
   ]
  },
  {
   "cell_type": "code",
   "execution_count": null,
   "metadata": {
    "collapsed": true
   },
   "outputs": [],
   "source": [
    "train2 = pd.read_csv('data/train_v2.csv')"
   ]
  },
  {
   "cell_type": "code",
   "execution_count": null,
   "metadata": {},
   "outputs": [
    {
     "name": "stderr",
     "output_type": "stream",
     "text": [
      "42it [21:49, 31.19s/it]"
     ]
    }
   ],
   "source": [
    "logs_iter = pd.read_csv('data/user_logs.csv', low_memory=False, iterator=True, chunksize=1000000, parse_dates=[\"date\"], infer_datetime_format = True)\n",
    "end = \"20170301\"\n",
    "outputs = [pd.DataFrame(),pd.DataFrame(),pd.DataFrame()]\n",
    "ref = ['20170201','20161201','20170901']\n",
    "\n",
    "for logs in tqdm(logs_iter):\n",
    "    sel_logs = logs.merge(train2, on='msno', how='right').drop([\"is_churn\"],axis=1)\n",
    "    for i in range(len(ref)):\n",
    "        new_logs = sel_logs.loc[sel_logs[\"date\"] >= pd.to_datetime(ref[i], format='%Y%m%d', errors='ignore')]\n",
    "        new_logs = new_logs.groupby(by=[\"msno\"]).agg([\"sum\",\"count\"]).reset_index()\n",
    "        outputs[i] = outputs[i].append(new_logs)"
   ]
  },
  {
   "cell_type": "code",
   "execution_count": null,
   "metadata": {
    "collapsed": true
   },
   "outputs": [],
   "source": [
    "labels=[\"1mo\",\"3mo\",\"6mo\"]\n",
    "\n",
    "for k in range(len(outputs)):\n",
    "    outputs[k] = outputs[k].groupby(by=[\"msno\"]).agg(\"sum\")\n",
    "    old_cols = outputs[k].columns\n",
    "\n",
    "    for i,lab in zip(old_cols.get_level_values(0),labels):\n",
    "        outputs[k][i+\"_avg\"+\"_\"+labels] = (outputs[k])[i][\"sum\"][\"sum\"]/(outputs[k])[i][\"count\"][\"sum\"]\n",
    "        outputs[k][i+\"_count\"+\"_\"+labels] = (outputs[k])[i][\"count\"][\"sum\"]\n",
    "    outputs[k].drop(old_cols,axis=1)"
   ]
  },
  {
   "cell_type": "code",
   "execution_count": null,
   "metadata": {
    "collapsed": true
   },
   "outputs": [],
   "source": [
    "outputs[0].to_csv(\"tr2_1mo.csv\")\n",
    "outputs[1].to_csv(\"tr2_3mo.csv\")\n",
    "outputs[2].to_csv(\"tr2_1mo.csv\")"
   ]
  }
 ],
 "metadata": {
  "kernelspec": {
   "display_name": "Python 3",
   "language": "python",
   "name": "python3"
  },
  "language_info": {
   "codemirror_mode": {
    "name": "ipython",
    "version": 3
   },
   "file_extension": ".py",
   "mimetype": "text/x-python",
   "name": "python",
   "nbconvert_exporter": "python",
   "pygments_lexer": "ipython3",
   "version": "3.6.1"
  }
 },
 "nbformat": 4,
 "nbformat_minor": 2
}
