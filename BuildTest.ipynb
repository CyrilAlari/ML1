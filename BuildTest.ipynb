{
 "cells": [
  {
   "cell_type": "code",
   "execution_count": null,
   "metadata": {
    "collapsed": true
   },
   "outputs": [],
   "source": [
    "import pandas as pd\n",
    "from tqdm import tqdm\n",
    "import numpy as np\n",
    "import warnings\n",
    "import time\n",
    "from datetime import datetime, timedelta\n",
    "from scipy.stats import mode\n",
    "warnings.filterwarnings('ignore')"
   ]
  },
  {
   "cell_type": "markdown",
   "metadata": {},
   "source": [
    "## Logs"
   ]
  },
  {
   "cell_type": "code",
   "execution_count": null,
   "metadata": {
    "collapsed": true
   },
   "outputs": [],
   "source": [
    "train = pd.read_csv('data/test.csv')"
   ]
  },
  {
   "cell_type": "code",
   "execution_count": null,
   "metadata": {},
   "outputs": [],
   "source": [
    "logs_iter = pd.read_csv('data/user_logs.csv', low_memory=False, iterator=True, chunksize=1000000, parse_dates=[\"date\"], infer_datetime_format = True)\n",
    "end = \"20170401\"\n",
    "outputs = [pd.DataFrame(),pd.DataFrame(),pd.DataFrame()]\n",
    "ref = ['20170301','20170101','20161001']\n",
    "\n",
    "for logs in tqdm(logs_iter):\n",
    "    sel_logs = logs.merge(train, on='msno', how='right').drop([\"is_churn\"],axis=1)\n",
    "    for i in range(3):\n",
    "        new_logs = sel_logs.loc[sel_logs[\"date\"] >= pd.to_datetime(ref[i], format='%Y%m%d', errors='ignore')]\n",
    "        new_logs = new_logs.loc[new_logs[\"date\"] <= pd.to_datetime(end, format='%Y%m%d', errors='ignore')]\n",
    "        new_logs = new_logs.groupby(by=[\"msno\"]).agg([\"sum\",\"count\"]).reset_index()\n",
    "        outputs[i] = outputs[i].append(new_logs)\n",
    "        \n",
    "logs_iter = pd.read_csv('data/user_logs_v2.csv', low_memory=False, iterator=True, chunksize=1000000, parse_dates=[\"date\"], infer_datetime_format = True)\n",
    "for logs in tqdm(logs_iter):\n",
    "    sel_logs = logs.merge(train, on='msno', how='right').drop([\"is_churn\"],axis=1)\n",
    "    for i in range(3):\n",
    "        new_logs = sel_logs.loc[sel_logs[\"date\"] >= pd.to_datetime(ref[i], format='%Y%m%d', errors='ignore')]\n",
    "        new_logs = new_logs.loc[new_logs[\"date\"] <= pd.to_datetime(end, format='%Y%m%d', errors='ignore')]\n",
    "        new_logs = new_logs.groupby(by=[\"msno\"]).agg([\"sum\",\"count\"]).reset_index()\n",
    "        outputs[i] = outputs[i].append(new_logs)"
   ]
  },
  {
   "cell_type": "code",
   "execution_count": null,
   "metadata": {
    "collapsed": true
   },
   "outputs": [],
   "source": [
    "labels=[\"1mo\",\"3mo\",\"6mo\"]\n",
    "\n",
    "for k in range(3):\n",
    "    outputs[k] = outputs[k].groupby(by=[\"msno\"]).agg(\"sum\")\n",
    "    old_cols = outputs[k].columns\n",
    "\n",
    "    for i,lab in zip(old_cols.get_level_values(0),labels):\n",
    "        outputs[k][i+\"_avg_\"+lab] = (outputs[k])[i][\"sum\"][\"sum\"]/(outputs[k])[i][\"count\"][\"sum\"]\n",
    "        outputs[k][i+\"_count_\"+lab] = (outputs[k])[i][\"count\"][\"sum\"]\n",
    "    outputs[k].drop(old_cols,axis=1)"
   ]
  },
  {
   "cell_type": "code",
   "execution_count": null,
   "metadata": {
    "collapsed": true
   },
   "outputs": [],
   "source": [
    "tr_1mo = outputs[0]\n",
    "tr_3mo = outputs[1]\n",
    "tr_6mo = outputs[2]\n",
    "\n",
    "union = tr_1mo.merge(tr_3mo,how=\"outer\",on=\"msno\")\n",
    "union = union.merge(tr_6mo,how=\"outer\",on=\"msno\")\n",
    "\n",
    "union.fillna(0)\n",
    "union.to_csv(\"data/tst_logs.csv\",index=False)"
   ]
  },
  {
   "cell_type": "markdown",
   "metadata": {},
   "source": [
    "## Transactions"
   ]
  },
  {
   "cell_type": "code",
   "execution_count": null,
   "metadata": {
    "collapsed": true
   },
   "outputs": [],
   "source": [
    "df_train = pd.read_csv('data/test.csv', usecols=['msno'])"
   ]
  },
  {
   "cell_type": "code",
   "execution_count": null,
   "metadata": {
    "collapsed": true
   },
   "outputs": [],
   "source": [
    "df_iter = pd.read_csv('data/transactions.csv', low_memory=False, iterator=True, chunksize=10000000)\n",
    "\n",
    "df_transactions = pd.DataFrame()\n",
    "\n",
    "for df in df_iter:\n",
    "    new_df = pd.merge(df, df_train, on='msno', how='right')\n",
    "    if df_transactions.empty:\n",
    "        df_transactions = new_df\n",
    "    else:\n",
    "        df_transactions = pd.concat([df_transactions, new_df], ignore_index=True)\n",
    "        \n",
    "df_iter = pd.read_csv('data/transactions_v2.csv', low_memory=False, iterator=True, chunksize=10000000)\n",
    "\n",
    "for df in df_iter:\n",
    "    new_df = pd.merge(df, df_train, on='msno', how='right')\n",
    "    if df_transactions.empty:\n",
    "        df_transactions = new_df\n",
    "    else:\n",
    "        df_transactions = pd.concat([df_transactions, new_df], ignore_index=True)"
   ]
  },
  {
   "cell_type": "code",
   "execution_count": null,
   "metadata": {
    "collapsed": true
   },
   "outputs": [],
   "source": [
    "df_transactions = df_transactions.sort_values('transaction_date')\n",
    "new_df_transactions_v1 = df_transactions.query(\"transaction_date <= 20170131\")\n",
    "\n",
    "def last(ser):\n",
    "    if len(ser)>0:\n",
    "        return ser.iloc[-1]\n",
    "    else:\n",
    "        return mean\n",
    "\n",
    "new_df_transactions_v1 = new_df_transactions_v1.groupby('msno').agg({'payment_method_id':[lambda l : mode(l)[0][0], last],\n",
    "       'payment_plan_days':[np.mean, last], 'plan_list_price':[np.mean, last], 'actual_amount_paid':[np.mean, last],\n",
    "       'is_auto_renew':[np.median, last],'is_cancel': [sum, last], 'transaction_date':[last], 'membership_expire_date':[last]})"
   ]
  },
  {
   "cell_type": "code",
   "execution_count": null,
   "metadata": {
    "collapsed": true
   },
   "outputs": [],
   "source": [
    "new_df_transactions_v1.to_csv(\"input/transactions_test.csv\")"
   ]
  },
  {
   "cell_type": "markdown",
   "metadata": {},
   "source": [
    "## Members"
   ]
  },
  {
   "cell_type": "code",
   "execution_count": null,
   "metadata": {
    "collapsed": true
   },
   "outputs": [],
   "source": [
    "train = pd.read_csv('data/test.csv', usecols=['msno'])\n",
    "members = pd.read_csv('data/members_v3.csv')\n",
    "train = pd.merge(train, members, how='left', on='msno')\n",
    "\n",
    "\n",
    "def purifieGender(df):\n",
    "    gender = {'male':1, 'female':2}\n",
    "    df['gender'] = df['gender'].map(gender)\n",
    "    (df.gender).fillna(0, inplace = True)\n",
    "\n",
    "purifieGender(train)\n",
    "\n",
    "train[\"dateChurn\"] = datetime(2017, 2, 28)\n",
    "train['registration_init_time'] = pd.to_datetime(train['registration_init_time'], errors = 'coerce', format = '%Y%m%d')\n",
    "train[\"TimeSinceReg\"] = train[\"dateChurn\"] - train[\"registration_init_time\"]\n",
    "\n",
    "train.drop(['registration_init_time', \"dateChurn\"], inplace=True, axis=1)\n",
    "train = train.dropna()\n",
    "\n",
    "duree = [\"TimeSinceReg\"]\n",
    "\n",
    "def splitDate(t):\n",
    "    if isinstance(str(t),float):\n",
    "        return t\n",
    "    else:\n",
    "        return int(str(t).split(\" \")[0])\n",
    "        \n",
    "for d in duree:\n",
    "    train[d] = train[d].apply(splitDate)\n",
    "\n",
    "train.to_csv('data/member_test.csv')"
   ]
  },
  {
   "cell_type": "markdown",
   "metadata": {},
   "source": [
    "## Merge"
   ]
  },
  {
   "cell_type": "code",
   "execution_count": null,
   "metadata": {
    "collapsed": true
   },
   "outputs": [],
   "source": [
    "tr_1mo = pd.read_csv(\"data/wasted/member_test.csv\")\n",
    "tr_3mo = pd.read_csv(\"data/wasted/transactions_test.csv\",parse_dates=[\"membership_expire_date_last\", \"transaction_date_last\"], infer_datetime_format = True)\n",
    "tr_6mo = pd.read_csv(\"data/wasted/tst_logs.csv\")\n",
    "\n",
    "union = tr_1mo.merge(tr_3mo,how=\"outer\",on=\"msno\")\n",
    "union = union.merge(tr_6mo,how=\"outer\",on=\"msno\")\n",
    "\n",
    "union = union.drop(union.filter(like=\"Unnamed\"),axis=1)\n",
    "union.fillna(0)\n",
    "union.to_csv(\"data/testing_set.csv\")"
   ]
  }
 ],
 "metadata": {
  "kernelspec": {
   "display_name": "Python 3",
   "language": "python",
   "name": "python3"
  },
  "language_info": {
   "codemirror_mode": {
    "name": "ipython",
    "version": 3
   },
   "file_extension": ".py",
   "mimetype": "text/x-python",
   "name": "python",
   "nbconvert_exporter": "python",
   "pygments_lexer": "ipython3",
   "version": "3.6.1"
  }
 },
 "nbformat": 4,
 "nbformat_minor": 2
}
