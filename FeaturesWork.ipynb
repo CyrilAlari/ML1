{
 "cells": [
  {
   "cell_type": "code",
   "execution_count": null,
   "metadata": {
    "collapsed": true
   },
   "outputs": [],
   "source": [
    "import numpy as np\n",
    "import pandas as pd\n",
    "from sklearn.preprocessing import LabelEncoder\n",
    "from sklearn.ensemble import GradientBoostingRegressor\n",
    "\n",
    "from util_data import DataSet\n",
    "import matplotlib.pyplot as plt\n",
    "import seaborn as sns\n",
    "\n",
    "from tqdm import tqdm"
   ]
  },
  {
   "cell_type": "code",
   "execution_count": null,
   "metadata": {
    "collapsed": true
   },
   "outputs": [],
   "source": [
    "deleted_features = [\"membership_expire_date_last\",\"transaction_date_last\",\"payment_plan_days_mean\",\"payment_plan_days_last\",\"num_100_avg_1mo\",\"num_100_avg_3mo\",\"num_100_avg_6mo\"]"
   ]
  },
  {
   "cell_type": "code",
   "execution_count": null,
   "metadata": {
    "collapsed": true
   },
   "outputs": [],
   "source": [
    "data = DataSet()\n",
    "\n",
    "train = data.get_training_set().append(data.get_validation_set())\n",
    "test = data.get_testing_set()"
   ]
  },
  {
   "cell_type": "code",
   "execution_count": null,
   "metadata": {
    "collapsed": true
   },
   "outputs": [],
   "source": [
    "train[\"payment_method_id_lambda\"]=train[\"payment_method_id_<lambda>\"]\n",
    "test[\"payment_method_id_lambda\"]=test[\"payment_method_id_<lambda>\"]\n",
    "train=train.drop([\"payment_method_id_<lambda>\"],axis=1)\n",
    "test=test.drop([\"payment_method_id_<lambda>\"],axis=1)"
   ]
  },
  {
   "cell_type": "code",
   "execution_count": null,
   "metadata": {
    "collapsed": true
   },
   "outputs": [],
   "source": [
    "train[\"TimeSinceReg\"] = train[\"TimeSinceReg\"].replace(\"nan\",\"0\")\n",
    "test[\"TimeSinceReg\"] = test[\"TimeSinceReg\"].replace(\"nan\",\"0\")\n",
    "\n",
    "train[\"TimeSinceReg\"] = train[\"TimeSinceReg\"].apply(lambda chaine : int(chaine.split(\" \")[0]))\n",
    "test[\"TimeSinceReg\"] = test[\"TimeSinceReg\"].apply(lambda chaine : int(chaine.split(\" \")[0]))\n",
    "                                                  \n",
    "test= test.drop([\"date_avg_6mo\", \"date_avg_1mo\"],axis=1)\n",
    "#train= train.drop([\"date_avg_6mo\", \"date_avg_1mo\"],axis=1)\n",
    "                                                  \n",
    "cols = train.columns.tolist()\n",
    "cols.remove(\"is_churn\")\n",
    "test = test[cols]\n",
    "\n",
    "train = train.fillna(0)\n",
    "test = test.fillna(0)"
   ]
  },
  {
   "cell_type": "code",
   "execution_count": null,
   "metadata": {
    "collapsed": true
   },
   "outputs": [],
   "source": [
    "med_age = np.median(train.loc[train[\"bd\"]>13].loc[train[\"bd\"]<80][\"bd\"])\n",
    "def age_correction(x):\n",
    "    if(x<13):\n",
    "        return(med_age)\n",
    "    if(x>80):\n",
    "        return(med_age)\n",
    "    return(x)\n",
    "train[\"bd\"] = train[\"bd\"].apply(age_correction)\n",
    "test[\"bd\"] = test[\"bd\"].apply(age_correction)"
   ]
  },
  {
   "cell_type": "code",
   "execution_count": null,
   "metadata": {
    "collapsed": true
   },
   "outputs": [],
   "source": [
    "combs = [\n",
    "    (\"payment_method_id_lambda\",\"payment_method_id_last\"),\n",
    "    (\"actual_amount_paid_last\",\"actual_amount_paid_mean\"),\n",
    "    (\"num_25_avg_6mo\", \"num_25_avg_3mo\"),\n",
    "    (\"num_50_avg_6mo\", \"num_50_avg_3mo\"),\n",
    "    (\"num_985_avg_6mo\", \"num_985_avg_3mo\"),\n",
    "    (\"num_unq_avg_6mo\", \"num_unq_avg_3mo\"),\n",
    "    (\"count_6mo\", \"count_3mo\"),\n",
    "    (\"total_secs_avg_6mo\", \"total_secs_avg_3mo\"),\n",
    "    (\"plan_list_price_mean\", \"plan_list_price_last\"),\n",
    "    (\"num_unq_avg_1mo\",\"total_secs_avg_1mo\"),\n",
    "    (\"is_auto_renew_median\",\"is_auto_renew_last\")\n",
    "\n",
    "]\n",
    "\n",
    "for f1, f2 in combs:\n",
    "    name1 = f1 + \"_plus_\" + f2\n",
    "    train[name1] = train[f1].apply(lambda x: str(x)) + \"_\" + train[f2].apply(lambda x: str(x))\n",
    "    test[name1] = test[f1].apply(lambda x: str(x)) + \"_\" + test[f2].apply(lambda x: str(x))\n",
    "    # Label Encode\n",
    "    lbl = LabelEncoder()\n",
    "    lbl.fit(list(train[name1].values) + list(test[name1].values))\n",
    "    train[name1] = lbl.transform(list(train[name1].values))\n",
    "    test[name1] = lbl.transform(list(test[name1].values))\n",
    "    train = train.drop([f1,f2],axis=1)\n",
    "    test = test.drop([f1,f2],axis=1)"
   ]
  },
  {
   "cell_type": "code",
   "execution_count": null,
   "metadata": {
    "collapsed": true
   },
   "outputs": [],
   "source": [
    "train = train.drop(deleted_features,axis=1)\n",
    "test = test.drop(deleted_features,axis=1)\n",
    "test = test.drop(train.filter(like=\"num_75\"),axis=1)\n",
    "train = train.drop(train.filter(like=\"num_75\"),axis=1)"
   ]
  },
  {
   "cell_type": "code",
   "execution_count": null,
   "metadata": {},
   "outputs": [],
   "source": [
    "# Seaborn style\n",
    "sns.set_style(\"whitegrid\")\n",
    "\n",
    "# Getting correlation matrix\n",
    "cor_matrix = train.corr().round(2)\n",
    "\n",
    "# Plotting heatmap \n",
    "fig = plt.figure(figsize=(20,20));\n",
    "sns.heatmap(cor_matrix, annot=True, center=0, cmap = sns.diverging_palette(250, 10, as_cmap=True), ax=plt.subplot(111));\n",
    "plt.show()"
   ]
  },
  {
   "cell_type": "code",
   "execution_count": null,
   "metadata": {
    "collapsed": true
   },
   "outputs": [],
   "source": [
    "train.to_csv(\"data/better_train.csv\",index=False)\n",
    "test.to_csv(\"data/better_test.csv\",index=False)"
   ]
  }
 ],
 "metadata": {
  "kernelspec": {
   "display_name": "Python 3",
   "language": "python",
   "name": "python3"
  },
  "language_info": {
   "codemirror_mode": {
    "name": "ipython",
    "version": 3
   },
   "file_extension": ".py",
   "mimetype": "text/x-python",
   "name": "python",
   "nbconvert_exporter": "python",
   "pygments_lexer": "ipython3",
   "version": "3.6.1"
  }
 },
 "nbformat": 4,
 "nbformat_minor": 2
}
